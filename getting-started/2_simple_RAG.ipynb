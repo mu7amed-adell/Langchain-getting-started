{
 "cells": [
  {
   "cell_type": "markdown",
   "id": "af71f29f",
   "metadata": {},
   "source": [
    "## LangChain RAG - Beginners guide\n",
    "\n",
    "### Overview\n",
    "This notebook demonstrates building a Retrieval-Augmented Generation (RAG) system using:\n",
    "- LangChain framework for orchestration\n",
    "- Local Ollama models for embeddings\n",
    "- Chroma vector database for storage\n"
   ]
  },
  {
   "cell_type": "markdown",
   "id": "43cd3466",
   "metadata": {},
   "source": [
    "Rag pipeline is the same along all different frameworks. technical stuff may change but the overall higher abstraction of the RAG is the same. it depends on 2 main steps, the first one is to crete a vector store from the raw data. the second step is to retreive relevant data from the vector store matching the relevance to a user query.  "
   ]
  },
  {
   "cell_type": "markdown",
   "id": "68f29ba2",
   "metadata": {},
   "source": [
    "### Goal 1: Create vector store from the documents.\n",
    "Document's raw text --> raw text chunks (using your preferred method of splitting) --> Create an embedding model --> Create a Vector store using the raw data and the embedding model.\n",
    "\n",
    "Final output, the same raw data, represented as numbers so the stupid computer can understand it.\n"
   ]
  },
  {
   "cell_type": "code",
   "execution_count": 1,
   "id": "02209152",
   "metadata": {},
   "outputs": [],
   "source": [
    "### Importing the necessary libraries\n",
    "\n",
    "from langchain_ollama import ChatOllama\n",
    "from langchain.schema import SystemMessage, HumanMessage\n"
   ]
  },
  {
   "cell_type": "code",
   "execution_count": 2,
   "id": "25b1f912",
   "metadata": {},
   "outputs": [
    {
     "name": "stdout",
     "output_type": "stream",
     "text": [
      "d:\\Langchain\\langchain-crash-course\\Langchain-getting-started\\db\\first_vector_store\n"
     ]
    }
   ],
   "source": [
    "import os\n",
    "# load the data\n",
    "# we need to define the path of the data and the persistent directory where the vector store will be stored.\n",
    "current_dir = os.getcwd()\n",
    "persistent_dir = os.path.join(current_dir, \"db\", \"first_vector_store\")\n",
    "print(persistent_dir) # this is the path of the vector store we will use this later"
   ]
  },
  {
   "cell_type": "markdown",
   "id": "937f3b2a",
   "metadata": {},
   "source": [
    "Now lets load the data from our document spa.txt (this is data is dummy data created with gpt)."
   ]
  },
  {
   "cell_type": "markdown",
   "id": "cd5ed0e2",
   "metadata": {},
   "source": [
    "### 1. Document Processing\n",
    "```python\n",
    "from langchain_community.document_loaders import TextLoader\n",
    "from langchain.text_splitter import CharacterTextSplitter\n",
    "```\n",
    "- **TextLoader**: Loads documents from filesystem\n",
    "- **CharacterTextSplitter**: Splits documents into chunks with:\n",
    "  - `chunk_size`: Maximum characters per chunk\n",
    "  - `chunk_overlap`: Overlap between chunks for context preservation."
   ]
  },
  {
   "cell_type": "code",
   "execution_count": 3,
   "id": "f8571810",
   "metadata": {},
   "outputs": [
    {
     "name": "stdout",
     "output_type": "stream",
     "text": [
      "[Document(metadata={'source': './data/spa.pdf', 'page': 0}, page_content='       Serenity Bliss Spa – Internal Data File        \\n \\n================================================= \\n       General Information \\n================================================= \\nName: Serenity Bliss Spa \\nLocation: 145 Lotus Avenue, Tranquil City, Harmony State, \\n12345 \\nPhone: +1 (555) 234-7890 \\nEmail: contact@serenityblissspa.com \\nWebsite: www.serenityblissspa.com \\n \\n================================================= \\n      Opening Hours \\n================================================= \\nMonday – Friday: 9:00 AM – 9:00 PM \\nSaturday: 10:00 AM – 8:00 PM \\nSunday: 11:00 AM – 6:00 PM \\nHolidays: Closed on major public holidays \\n \\n================================================= \\n                          Employees Data \\n================================================= \\n1. Employee ID: SB001 \\n   Name: Emma Johnson \\n   Role: Spa Manager \\n   Experience: 10 years in spa management \\n   Contact: emma.johnson@serenityblissspa.com \\n \\n2. Employee ID: SB002 \\n   Name: Daniel Lee \\n   Role: Senior Massage Therapist \\n   Specialty: Deep Tissue & Sports Massage \\n   Experience: 8 years \\n   Contact: daniel.lee@serenityblissspa.com \\n \\n3. Employee ID: SB003 \\n   Name: Sophia Martinez \\n   Role: Skincare Specialist \\n   Specialty: Facials & Anti-Aging Treatments \\n   Experience: 6 years \\n   Contact: sophia.martinez@serenityblissspa.com \\n \\n4. Employee ID: SB004 \\n   Name: Olivia Brown \\n   Role: Receptionist \\n   Experience: 4 years in customer service \\n   Contact: olivia.brown@serenityblissspa.com \\n \\n5. Employee ID: SB005 \\n   Name: Michael Chen \\n   Role: Wellness Coach \\n   Specialty: Meditation & Stress Management '), Document(metadata={'source': './data/spa.pdf', 'page': 1}, page_content='   Experience: 7 years \\n   Contact: michael.chen@serenityblissspa.com \\n \\n================================================= \\n               Services & Prices \\n================================================= \\nMassage Therapy: \\n- Swedish Massage (60 min): $80 \\n- Deep Tissue Massage (60 min): $95 \\n- Hot Stone Massage (75 min): $110 \\n- Aromatherapy Massage (60 min): $90 \\n \\nSkincare Treatments: \\n- Classic Facial (50 min): $75 \\n- Anti-Aging Facial (70 min): $120 \\n- Hydrating Facial (60 min): $95 \\n- Acne Treatment Facial (60 min): $100 \\n \\nWellness Services: \\n- Guided Meditation Session (45 min): $50 \\n- Stress Management Coaching (60 min): $85 \\n- Yoga Class (Group, 60 min): $20 per person \\n \\nPackages: \\n- Bliss Package: Swedish Massage + Classic Facial – $140 \\n- Renewal Package: Hot Stone Massage + Hydrating Facial – \\n$185 \\n- Serenity Full-Day Retreat: All-day access to treatments & \\nwellness coaching – $350 \\n \\n================================================= \\n       Contact Information \\n================================================= \\nPhone: +1 (555) 234-7890 \\nEmail: bookings@serenityblissspa.com \\nAddress: 145 Lotus Avenue, Tranquil City, Harmony State, \\n12345 \\n \\n================================================= \\n   Frequently Asked Questions (FAQs) \\n================================================= \\nQ: Do I need to book in advance? \\nA: Yes, we recommend booking at least 24 hours in advance to \\nsecure your preferred time. \\n \\nQ: What is your cancellation policy? \\nA: Cancellations must be made at least 12 hours before the \\nappointment to avoid charges. \\n \\nQ: Do you accept walk-ins? \\nA: Yes, but availability cannot be guaranteed without prior \\nbooking. \\n '), Document(metadata={'source': './data/spa.pdf', 'page': 2}, page_content='Q: What payment methods do you accept? \\nA: We accept cash, credit/debit cards, and mobile payments. \\n \\nQ: Are gift cards available? \\nA: Yes, gift cards can be purchased online or at the spa \\nreception. \\n \\nQ: Do you offer couple’s treatments? \\nA: Yes, couple’s massage and wellness sessions are available \\nupon request. \\n \\n================================================= \\n    End of File \\n================================================= ')]\n"
     ]
    }
   ],
   "source": [
    "from langchain_community.document_loaders import PyPDFLoader, TextLoader # langchain Loaders \n",
    "\n",
    "# loader = TextLoader(\"./data/spa.txt\", encoding=\"utf-8\") # intialize the Textloader with the path of the data and the encoding\n",
    "loader = PyPDFLoader(\"./data/spa.pdf\")\n",
    "documents = loader.load()   # load the data using the TextLoader\n",
    "print(documents)"
   ]
  },
  {
   "cell_type": "markdown",
   "id": "7332077d",
   "metadata": {},
   "source": [
    "After loading the data, if you remember we wanted to split the text into chunks so we can create the vector store using the chunks instead of the whole document as one file. This technique has many advantages, the main point is we dont retreive the whole document when we do our similarity search, saving some computational power and making things faster.\n",
    "\n",
    "However, splitting can be done using different techniques. \n",
    "1. Character-Based Splitting:\n",
    "Divides text into fixed-size chunks based on a character count. \n",
    "Pros: Fast and simple. \n",
    "Cons: Can break sentences and disrupt the natural flow of information. \n",
    "\n",
    "2. Sentence Splitting:\n",
    "Segments text into individual sentences. \n",
    "Pros: Maintains sentence integrity, leading to more coherent chunks. \n",
    "Cons: Sentences can vary in length, leading to inconsistent chunk sizes. \n",
    "\n",
    "3. Semantic Splitting:\n",
    "Uses embeddings to understand the meaning of the text and clusters semantically related sentences or passages together.  \n",
    "\n",
    "\n",
    "And many more."
   ]
  },
  {
   "cell_type": "code",
   "execution_count": 4,
   "id": "f6ba4f5e",
   "metadata": {},
   "outputs": [
    {
     "name": "stdout",
     "output_type": "stream",
     "text": [
      "page_content='Experience: 7 years \n",
      "   Contact: michael.chen@serenityblissspa.com \n",
      " \n",
      "================================================= \n",
      "               Services & Prices \n",
      "================================================= \n",
      "Massage Therapy: \n",
      "- Swedish Massage (60 min): $80 \n",
      "- Deep Tissue Massage (60 min): $95 \n",
      "- Hot Stone Massage (75 min): $110 \n",
      "- Aromatherapy Massage (60 min): $90 \n",
      " \n",
      "Skincare Treatments: \n",
      "- Classic Facial (50 min): $75 \n",
      "- Anti-Aging Facial (70 min): $120 \n",
      "- Hydrating Facial (60 min): $95 \n",
      "- Acne Treatment Facial (60 min): $100 \n",
      " \n",
      "Wellness Services: \n",
      "- Guided Meditation Session (45 min): $50 \n",
      "- Stress Management Coaching (60 min): $85 \n",
      "- Yoga Class (Group, 60 min): $20 per person \n",
      " \n",
      "Packages: \n",
      "- Bliss Package: Swedish Massage + Classic Facial – $140 \n",
      "- Renewal Package: Hot Stone Massage + Hydrating Facial – \n",
      "$185 \n",
      "- Serenity Full-Day Retreat: All-day access to treatments & \n",
      "wellness coaching – $350 \n",
      " \n",
      "================================================= \n",
      "       Contact Information \n",
      "================================================= \n",
      "Phone: +1 (555) 234-7890 \n",
      "Email: bookings@serenityblissspa.com \n",
      "Address: 145 Lotus Avenue, Tranquil City, Harmony State, \n",
      "12345 \n",
      " \n",
      "================================================= \n",
      "   Frequently Asked Questions (FAQs) \n",
      "================================================= \n",
      "Q: Do I need to book in advance? \n",
      "A: Yes, we recommend booking at least 24 hours in advance to \n",
      "secure your preferred time. \n",
      " \n",
      "Q: What is your cancellation policy? \n",
      "A: Cancellations must be made at least 12 hours before the \n",
      "appointment to avoid charges. \n",
      " \n",
      "Q: Do you accept walk-ins? \n",
      "A: Yes, but availability cannot be guaranteed without prior \n",
      "booking.' metadata={'source': './data/spa.pdf', 'page': 1}\n"
     ]
    }
   ],
   "source": [
    "from langchain.text_splitter import CharacterTextSplitter # CharacterTextSplitter\n",
    "\n",
    "text_splitter = CharacterTextSplitter(chunk_size=1000, chunk_overlap=0) \n",
    "docs = text_splitter.split_documents(documents)\n",
    "print(docs[1])"
   ]
  },
  {
   "cell_type": "markdown",
   "id": "3ac1c792",
   "metadata": {},
   "source": [
    "Now we what we did is the following:\n",
    "1. load the document data using TextLoader\n",
    "2. split the data into chunks using character text split method\n",
    "\n",
    "\n",
    "### Next Goal is to create the embedding model. Then, embedd the splitted data using the embedding model to convert raw data into a vector store.\n",
    "### 2. Embeddings\n",
    "```python\n",
    "from langchain_ollama import OllamaEmbeddings\n",
    "```\n",
    "- Uses local Ollama embedding model (`nomic-embed-text`)\n",
    "- Converts text to numerical vectors capturing semantic meaning"
   ]
  },
  {
   "cell_type": "code",
   "execution_count": 5,
   "id": "c745a633",
   "metadata": {},
   "outputs": [],
   "source": [
    "from langchain_ollama import OllamaEmbeddings # OllamaEmbeddings\n",
    "# create the embedding model\n",
    "embeddings = OllamaEmbeddings(model=\"nomic-embed-text:v1.5\")"
   ]
  },
  {
   "cell_type": "markdown",
   "id": "6c979e9f",
   "metadata": {},
   "source": [
    "### 3. Vector Store\n",
    "```python\n",
    "from langchain_community.vectorstores import Chroma\n",
    "```\n",
    "- **Chroma**: Local vector database that:\n",
    "  - Stores embeddings efficiently\n",
    "  - Enables fast similarity search\n",
    "  - Persists data to disk automatically\n",
    "- Created with:\n",
    "  ```python\n",
    "  Chroma.from_documents(\n",
    "      docs, \n",
    "      embeddings,\n",
    "      persist_directory=vector_store_path\n",
    "  )\n",
    "  ```\n"
   ]
  },
  {
   "cell_type": "code",
   "execution_count": 6,
   "id": "0514bc6c",
   "metadata": {},
   "outputs": [
    {
     "name": "stderr",
     "output_type": "stream",
     "text": [
      "Failed to send telemetry event ClientStartEvent: capture() takes 1 positional argument but 3 were given\n",
      "Failed to send telemetry event ClientCreateCollectionEvent: capture() takes 1 positional argument but 3 were given\n"
     ]
    }
   ],
   "source": [
    "from langchain_community.vectorstores import Chroma # Chroma db\n",
    "\n",
    "# create the vector store using the chroma library function (Chroma.from_documents).\n",
    "#  this will create the vector store and save it in the persistent directory.\n",
    "db = Chroma.from_documents(\n",
    "    documents= docs, \n",
    "    embedding= embeddings,\n",
    "    persist_directory= persistent_dir\n",
    ")"
   ]
  },
  {
   "cell_type": "markdown",
   "id": "bbaabd1d",
   "metadata": {},
   "source": [
    "``` Congrats, Now you have succesfully created a vector store using your raw text and embeddings model.```"
   ]
  },
  {
   "cell_type": "markdown",
   "id": "cffe5ba3",
   "metadata": {},
   "source": [
    "### How can we use this vector store?\n",
    "using the store is simple, all you need is to do is:\n",
    "1. Load the vector store if not loaded.\n",
    "2. apply any similarity methodology/technique to retreive relevant chunks."
   ]
  },
  {
   "cell_type": "code",
   "execution_count": 7,
   "id": "e64bfdf2",
   "metadata": {},
   "outputs": [
    {
     "name": "stderr",
     "output_type": "stream",
     "text": [
      "Failed to send telemetry event ClientStartEvent: capture() takes 1 positional argument but 3 were given\n",
      "Failed to send telemetry event ClientCreateCollectionEvent: capture() takes 1 positional argument but 3 were given\n"
     ]
    }
   ],
   "source": [
    "# load the vector store so we can use it for retreival. \n",
    "database = Chroma(persist_directory= persistent_dir, embedding_function=embeddings)"
   ]
  },
  {
   "cell_type": "code",
   "execution_count": 8,
   "id": "d8eed937",
   "metadata": {},
   "outputs": [
    {
     "name": "stderr",
     "output_type": "stream",
     "text": [
      "Failed to send telemetry event CollectionQueryEvent: capture() takes 1 positional argument but 3 were given\n",
      "d:\\Langchain\\langchain-crash-course\\Langchain-getting-started\\.venv\\Lib\\site-packages\\langchain_core\\vectorstores\\base.py:1045: UserWarning: Relevance scores must be between 0 and 1, got [(Document(metadata={'page': 2, 'source': './data/spa.pdf'}, page_content='Q: What payment methods do you accept? \\nA: We accept cash, credit/debit cards, and mobile payments. \\n \\nQ: Are gift cards available? \\nA: Yes, gift cards can be purchased online or at the spa \\nreception. \\n \\nQ: Do you offer couple’s treatments? \\nA: Yes, couple’s massage and wellness sessions are available \\nupon request. \\n \\n================================================= \\n    End of File \\n================================================='), -279.63202987713197), (Document(metadata={'page': 0, 'source': './data/spa.pdf'}, page_content='Serenity Bliss Spa – Internal Data File        \\n \\n================================================= \\n       General Information \\n================================================= \\nName: Serenity Bliss Spa \\nLocation: 145 Lotus Avenue, Tranquil City, Harmony State, \\n12345 \\nPhone: +1 (555) 234-7890 \\nEmail: contact@serenityblissspa.com \\nWebsite: www.serenityblissspa.com \\n \\n================================================= \\n      Opening Hours \\n================================================= \\nMonday – Friday: 9:00 AM – 9:00 PM \\nSaturday: 10:00 AM – 8:00 PM \\nSunday: 11:00 AM – 6:00 PM \\nHolidays: Closed on major public holidays \\n \\n================================================= \\n                          Employees Data \\n================================================= \\n1. Employee ID: SB001 \\n   Name: Emma Johnson \\n   Role: Spa Manager \\n   Experience: 10 years in spa management \\n   Contact: emma.johnson@serenityblissspa.com \\n \\n2. Employee ID: SB002 \\n   Name: Daniel Lee \\n   Role: Senior Massage Therapist \\n   Specialty: Deep Tissue & Sports Massage \\n   Experience: 8 years \\n   Contact: daniel.lee@serenityblissspa.com \\n \\n3. Employee ID: SB003 \\n   Name: Sophia Martinez \\n   Role: Skincare Specialist \\n   Specialty: Facials & Anti-Aging Treatments \\n   Experience: 6 years \\n   Contact: sophia.martinez@serenityblissspa.com \\n \\n4. Employee ID: SB004 \\n   Name: Olivia Brown \\n   Role: Receptionist \\n   Experience: 4 years in customer service \\n   Contact: olivia.brown@serenityblissspa.com \\n \\n5. Employee ID: SB005 \\n   Name: Michael Chen \\n   Role: Wellness Coach \\n   Specialty: Meditation & Stress Management'), -320.173658366812), (Document(metadata={'page': 2, 'source': './data/spa.pdf'}, page_content='Q: What payment methods do you accept? \\nA: We accept cash, credit/debit cards, and mobile payments. \\n \\nQ: Are gift cards available? \\nA: Yes, gift cards can be purchased online or at the spa \\nreception. \\n \\nQ: Do you offer couple’s treatments? \\nA: Yes, couple’s massage and wellness sessions are available \\nupon request. \\n \\n================================================= \\n    End of File \\n================================================='), -342.4775476283266)]\n",
      "  self.vectorstore.similarity_search_with_relevance_scores(\n",
      "No relevant docs were retrieved using the relevance score threshold 0.2\n"
     ]
    }
   ],
   "source": [
    "# now we can use the vector store for retreival. using the as_retriever method.\n",
    "retriever = database.as_retriever(\n",
    "    search_type=\"similarity_score_threshold\",\n",
    "    search_kwargs={\"k\": 3, \"score_threshold\": 0.2}\n",
    ")\n",
    "query = \"What are the services offered?\"\n",
    "# now we can use the retriever to search for relevant chunks.\n",
    "results = retriever.invoke(query)"
   ]
  },
  {
   "cell_type": "code",
   "execution_count": 9,
   "id": "8b78aa2c",
   "metadata": {},
   "outputs": [],
   "source": [
    "for i, doc in enumerate(results, 1):\n",
    "    print(f\"Document {i}:\\n{doc.page_content}\\n\")\n",
    "    if doc.metadata:\n",
    "        print(f\"Source: {doc.metadata.get('source', 'Unknown')}\\n\")"
   ]
  },
  {
   "cell_type": "markdown",
   "id": "915f9bb8",
   "metadata": {},
   "source": [
    "### What did we cover??\n",
    "\n",
    "#### Step 1: Setup\n",
    "1. Import required libraries\n",
    "2. Verify file paths and data availability\n",
    "\n",
    "#### Step 2: Document Loading\n",
    "- Loads documents information using the appropriate data loader from langchain.document_loaders\n",
    "- Verifies document content and size\n",
    "\n",
    "#### Step 3: Text Splitting\n",
    "- Splits document into chunks with overlap if the use case requires.\n",
    "- Preserves document structure by splitting on newlines or specific separator.\n",
    "\n",
    "#### Step 4: Embedding Creation\n",
    "- Initializes Ollama embeddings\n",
    "- Tests embedding generation with sample text\n",
    "- Shows embedding dimensionality (vector size)\n",
    "\n",
    "#### Step 5: Vector Store Creation\n",
    "- Creates new Chroma database using Chroma.from_documents method\n",
    "- Stores document chunks as vectors\n",
    "- Retreives relevant documents \n",
    "\n",
    "#### Step 6: Testing\n",
    "- Performs similarity searches with test queries:\n",
    "  ```python\n",
    "  db.similarity_search(\"What services does the spa offer?\", k=2)\n",
    "  ```\n",
    "- Displays top matching chunks for each query\n"
   ]
  },
  {
   "cell_type": "markdown",
   "id": "bca524e6",
   "metadata": {},
   "source": [
    "--- \n"
   ]
  },
  {
   "cell_type": "code",
   "execution_count": 10,
   "id": "ba411723",
   "metadata": {},
   "outputs": [
    {
     "name": "stdout",
     "output_type": "stream",
     "text": [
      "Here are some documents that might help answer the question: What are the services offered?\n",
      "\n",
      "Relevant Documents:\n",
      "Serenity Bliss Spa – Internal Data File        \n",
      " \n",
      "================================================= \n",
      "       General Information \n",
      "================================================= \n",
      "Name: Serenity Bliss Spa \n",
      "Location: 145 Lotus Avenue, Tranquil City, Harmony State, \n",
      "12345 \n",
      "Phone: +1 (555) 234-7890 \n",
      "Email: contact@serenityblissspa.com \n",
      "Website: www.serenityblissspa.com \n",
      " \n",
      "================================================= \n",
      "      Opening Hours \n",
      "================================================= \n",
      "Monday – Friday: 9:00 AM – 9:00 PM \n",
      "Saturday: 10:00 AM – 8:00 PM \n",
      "Sunday: 11:00 AM – 6:00 PM \n",
      "Holidays: Closed on major public holidays \n",
      " \n",
      "================================================= \n",
      "                          Employees Data \n",
      "================================================= \n",
      "1. Employee ID: SB001 \n",
      "   Name: Emma Johnson \n",
      "   Role: Spa Manager \n",
      "   Experience: 10 years in spa management \n",
      "   Contact: emma.johnson@serenityblissspa.com \n",
      " \n",
      "2. Employee ID: SB002 \n",
      "   Name: Daniel Lee \n",
      "   Role: Senior Massage Therapist \n",
      "   Specialty: Deep Tissue & Sports Massage \n",
      "   Experience: 8 years \n",
      "   Contact: daniel.lee@serenityblissspa.com \n",
      " \n",
      "3. Employee ID: SB003 \n",
      "   Name: Sophia Martinez \n",
      "   Role: Skincare Specialist \n",
      "   Specialty: Facials & Anti-Aging Treatments \n",
      "   Experience: 6 years \n",
      "   Contact: sophia.martinez@serenityblissspa.com \n",
      " \n",
      "4. Employee ID: SB004 \n",
      "   Name: Olivia Brown \n",
      "   Role: Receptionist \n",
      "   Experience: 4 years in customer service \n",
      "   Contact: olivia.brown@serenityblissspa.com \n",
      " \n",
      "5. Employee ID: SB005 \n",
      "   Name: Michael Chen \n",
      "   Role: Wellness Coach \n",
      "   Specialty: Meditation & Stress Management\n",
      "\n",
      "Experience: 7 years \n",
      "   Contact: michael.chen@serenityblissspa.com \n",
      " \n",
      "================================================= \n",
      "               Services & Prices \n",
      "================================================= \n",
      "Massage Therapy: \n",
      "- Swedish Massage (60 min): $80 \n",
      "- Deep Tissue Massage (60 min): $95 \n",
      "- Hot Stone Massage (75 min): $110 \n",
      "- Aromatherapy Massage (60 min): $90 \n",
      " \n",
      "Skincare Treatments: \n",
      "- Classic Facial (50 min): $75 \n",
      "- Anti-Aging Facial (70 min): $120 \n",
      "- Hydrating Facial (60 min): $95 \n",
      "- Acne Treatment Facial (60 min): $100 \n",
      " \n",
      "Wellness Services: \n",
      "- Guided Meditation Session (45 min): $50 \n",
      "- Stress Management Coaching (60 min): $85 \n",
      "- Yoga Class (Group, 60 min): $20 per person \n",
      " \n",
      "Packages: \n",
      "- Bliss Package: Swedish Massage + Classic Facial – $140 \n",
      "- Renewal Package: Hot Stone Massage + Hydrating Facial – \n",
      "$185 \n",
      "- Serenity Full-Day Retreat: All-day access to treatments & \n",
      "wellness coaching – $350 \n",
      " \n",
      "================================================= \n",
      "       Contact Information \n",
      "================================================= \n",
      "Phone: +1 (555) 234-7890 \n",
      "Email: bookings@serenityblissspa.com \n",
      "Address: 145 Lotus Avenue, Tranquil City, Harmony State, \n",
      "12345 \n",
      " \n",
      "================================================= \n",
      "   Frequently Asked Questions (FAQs) \n",
      "================================================= \n",
      "Q: Do I need to book in advance? \n",
      "A: Yes, we recommend booking at least 24 hours in advance to \n",
      "secure your preferred time. \n",
      " \n",
      "Q: What is your cancellation policy? \n",
      "A: Cancellations must be made at least 12 hours before the \n",
      "appointment to avoid charges. \n",
      " \n",
      "Q: Do you accept walk-ins? \n",
      "A: Yes, but availability cannot be guaranteed without prior \n",
      "booking.\n",
      "\n",
      "Q: What payment methods do you accept? \n",
      "A: We accept cash, credit/debit cards, and mobile payments. \n",
      " \n",
      "Q: Are gift cards available? \n",
      "A: Yes, gift cards can be purchased online or at the spa \n",
      "reception. \n",
      " \n",
      "Q: Do you offer couple’s treatments? \n",
      "A: Yes, couple’s massage and wellness sessions are available \n",
      "upon request. \n",
      " \n",
      "================================================= \n",
      "    End of File \n",
      "=================================================\n",
      "\n",
      "Please provide an answer based only on the provided documents. Never mention the documents in your response. If the answer is not found in the documents, respond with 'I'm not sure'.\n"
     ]
    }
   ],
   "source": [
    "combined_user_query = (\n",
    "    \"Here are some documents that might help answer the question: \"\n",
    "    + query\n",
    "    + \"\\n\\nRelevant Documents:\\n\"\n",
    "    + \"\\n\\n\".join([doc.page_content for doc in docs])\n",
    "    + \"\\n\\nPlease provide an answer based only on the provided documents. Never mention the documents in your response. If the answer is not found in the documents, respond with 'I'm not sure'.\"\n",
    ")\n",
    "print(combined_user_query)"
   ]
  },
  {
   "cell_type": "code",
   "execution_count": 11,
   "id": "a2407480",
   "metadata": {},
   "outputs": [],
   "source": [
    "# Create the ollama chat model\n",
    "OLLAMA_MODEL = os.getenv(\"OLLAMA_MODEL\", \"llama3.2:3b\")\n",
    "\n",
    "model = ChatOllama(model=OLLAMA_MODEL)"
   ]
  },
  {
   "cell_type": "code",
   "execution_count": 12,
   "id": "95b00b9a",
   "metadata": {},
   "outputs": [
    {
     "name": "stdout",
     "output_type": "stream",
     "text": [
      "Based on the information provided, Serenity Bliss Spa offers a range of services, including:\n",
      "\n",
      "* Massage Therapy: Swedish, Deep Tissue, Hot Stone, and Aromatherapy\n",
      "* Skincare Treatments: Classic Facial, Anti-Aging Facial, Hydrating Facial, and Acne Treatment Facial\n",
      "* Wellness Services: Guided Meditation Session, Stress Management Coaching, and Yoga Class (Group)\n",
      "* Packages: Bliss Package, Renewal Package, and Serenity Full-Day Retreat\n",
      "\n",
      "They also offer various treatment options for couples.\n"
     ]
    }
   ],
   "source": [
    "## create the messages\n",
    "messages = [\n",
    "    SystemMessage(content=\"You are a helpful assistant for the spa company.\"),\n",
    "    HumanMessage(content=combined_user_query),\n",
    "]\n",
    "result = model.invoke(messages)\n",
    "print(result.content)\n"
   ]
  },
  {
   "cell_type": "markdown",
   "id": "cd4cbefa",
   "metadata": {},
   "source": [
    "``` Congratulations, you have succesfully created a vectore store from your raw data, retreived relevant data from that vectore store based on a specific query. and passed the relevant info to an LLM for a specific message response.```"
   ]
  }
 ],
 "metadata": {
  "kernelspec": {
   "display_name": ".venv",
   "language": "python",
   "name": "python3"
  },
  "language_info": {
   "codemirror_mode": {
    "name": "ipython",
    "version": 3
   },
   "file_extension": ".py",
   "mimetype": "text/x-python",
   "name": "python",
   "nbconvert_exporter": "python",
   "pygments_lexer": "ipython3",
   "version": "3.11.8"
  }
 },
 "nbformat": 4,
 "nbformat_minor": 5
}
